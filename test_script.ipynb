{
 "cells": [
  {
   "cell_type": "code",
   "execution_count": 44,
   "metadata": {},
   "outputs": [],
   "source": [
    "import matlab.engine\n",
    "import numpy as np "
   ]
  },
  {
   "cell_type": "code",
   "execution_count": 45,
   "metadata": {},
   "outputs": [],
   "source": [
    "eng = matlab.engine.start_matlab()"
   ]
  },
  {
   "cell_type": "code",
   "execution_count": 46,
   "metadata": {},
   "outputs": [],
   "source": [
    "current_dir = eng.pwd()\n",
    "het_dir = eng.set_file_locations(current_dir, nargout=1)"
   ]
  },
  {
   "cell_type": "code",
   "execution_count": 47,
   "metadata": {},
   "outputs": [],
   "source": [
    "# Load configs\n",
    "eng.cd(current_dir)\n",
    "pos_unique, Kp, Kw_ratio, Kpw_ratio, Kw_ratio_tess, N,  Gn = eng.load_configs(het_dir, nargout=7)"
   ]
  },
  {
   "cell_type": "code",
   "execution_count": 48,
   "metadata": {},
   "outputs": [
    {
     "name": "stdout",
     "output_type": "stream",
     "text": [
      "14\n"
     ]
    }
   ],
   "source": [
    "print(len(pos_unique))"
   ]
  },
  {
   "cell_type": "code",
   "execution_count": 59,
   "metadata": {},
   "outputs": [
    {
     "name": "stdout",
     "output_type": "stream",
     "text": [
      "[ 3  3  8  3  7  8 11 11  4  4  4  7  1  7  9  3]\n"
     ]
    }
   ],
   "source": [
    "eng.cd(current_dir)\n",
    "\n",
    "# Jam checkerboard pattern tessellation\n",
    "conid = np.random.randint(1, 15, 16)\n",
    "print(conid)\n"
   ]
  },
  {
   "cell_type": "code",
   "execution_count": null,
   "metadata": {},
   "outputs": [],
   "source": [
    "pos_p_all, pos_c_all, D_all, Wlist, linklist, linklist_inner, ext_list, L0_voxel= eng.jamming(het_dir, conid, pos_unique, N, Gn, Kp, Kw_ratio, Kpw_ratio, Kw_ratio_tess, nargout=8)\n",
    "\n",
    "#2 seconds"
   ]
  },
  {
   "cell_type": "code",
   "execution_count": 50,
   "metadata": {},
   "outputs": [],
   "source": [
    "eng.cd(current_dir)\n",
    "xy_p_all_comp, xy_c_all_comp = eng.compress(het_dir, pos_p_all, pos_c_all, N, 4.0, D_all, 1.0, L0_voxel, Kp, Kpw_ratio, Kw_ratio, 0, nargout=2)\n"
   ]
  },
  {
   "cell_type": "code",
   "execution_count": 51,
   "metadata": {},
   "outputs": [],
   "source": [
    "eng.cd(current_dir)\n",
    "G_step, tess_Gdc = eng.shear_modulus(het_dir, xy_p_all_comp,xy_c_all_comp, N, 4.0, D_all, 1.0, Kp, Kpw_ratio, Kw_ratio, nargout=2)"
   ]
  },
  {
   "cell_type": "code",
   "execution_count": 52,
   "metadata": {},
   "outputs": [
    {
     "name": "stdout",
     "output_type": "stream",
     "text": [
      "0.10063523658521523\n"
     ]
    }
   ],
   "source": [
    "print(tess_Gdc)"
   ]
  }
 ],
 "metadata": {
  "kernelspec": {
   "display_name": "Python 3",
   "language": "python",
   "name": "python3"
  },
  "language_info": {
   "codemirror_mode": {
    "name": "ipython",
    "version": 3
   },
   "file_extension": ".py",
   "mimetype": "text/x-python",
   "name": "python",
   "nbconvert_exporter": "python",
   "pygments_lexer": "ipython3",
   "version": "3.11.9"
  }
 },
 "nbformat": 4,
 "nbformat_minor": 2
}
